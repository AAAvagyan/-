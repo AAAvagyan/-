{
 "cells": [
  {
   "cell_type": "code",
   "execution_count": 1,
   "id": "6f2f706d",
   "metadata": {},
   "outputs": [],
   "source": [
    "import numpy as np\n",
    "import matplotlib.pyplot as plt\n",
    "import math"
   ]
  },
  {
   "cell_type": "code",
   "execution_count": 2,
   "id": "cdf13336",
   "metadata": {},
   "outputs": [],
   "source": [
    "def Check(g):\n",
    "    norma_g = np.linalg.norm(g)\n",
    "    #print(\"norma_g = \",norma_g)\n",
    "    if norma_g <= 0.0001:\n",
    "        return -1\n",
    "    else: \n",
    "        return 1"
   ]
  },
  {
   "cell_type": "code",
   "execution_count": 3,
   "id": "8699a969",
   "metadata": {},
   "outputs": [],
   "source": [
    "def WithoutCond (x_0 , alpha , a): # Без условия \n",
    "    norma_a = ((np.linalg.norm(a))**2)\n",
    "\n",
    "    F    = ((np.linalg.norm(x_0-a))**2)\n",
    "\n",
    "    \n",
    "    g_0  = (x_0 - a)*2   #norma_g_0 = round(np.linalg.norm(g_0))        \n",
    "    d_0 = -g_0\n",
    "    \n",
    "    x_1  = x_0 + alpha*(d_0) #Если k ==0 берем -g_k\n",
    "    step = 1\n",
    "    \n",
    "    while Check(g_0)!=-1:\n",
    "        F    = ((np.linalg.norm(x_1-a))**2)\n",
    "        g_1  = (x_1 - a)*2\n",
    "        step +=1\n",
    "        if Check(g_1) == -1:    \n",
    "            return x_1 , step\n",
    "        else:\n",
    "            y_k_1 = g_1 - g_0\n",
    "            dop = np.dot(g_1,y_k_1)\n",
    "            \n",
    "            norma_g_0 = np.linalg.norm(g_0)**2\n",
    "            \n",
    "            betta = dop/norma_g_0\n",
    "            \n",
    "            d_1 = -g_1 + betta * d_0\n",
    "            \n",
    "            x_1  = x_0 + alpha*(d_1)\n",
    "            d_0 = d_1\n",
    "            x_0 = x_1\n",
    "            g_0 = g_1\n",
    "            \n",
    "    return x_1 ,step\n",
    "    "
   ]
  },
  {
   "cell_type": "code",
   "execution_count": 4,
   "id": "574d3db3",
   "metadata": {},
   "outputs": [
    {
     "name": "stdout",
     "output_type": "stream",
     "text": [
      "x= (array([1., 3., 1., 2.]), 2)\n"
     ]
    }
   ],
   "source": [
    "a = np.array([1,3,1,2],float)\n",
    "b = np.array([0,-1,1,1],float)\n",
    "x_0 = 2*a+5*b\n",
    "alpha = 1/2\n",
    "print(\"x=\",WithoutCond(x_0,alpha,a))"
   ]
  },
  {
   "cell_type": "code",
   "execution_count": null,
   "id": "3a3000f1",
   "metadata": {},
   "outputs": [],
   "source": []
  },
  {
   "cell_type": "code",
   "execution_count": null,
   "id": "c7d4ec27",
   "metadata": {},
   "outputs": [],
   "source": []
  },
  {
   "cell_type": "code",
   "execution_count": 5,
   "id": "f28edeae",
   "metadata": {},
   "outputs": [],
   "source": [
    "def Check1(x_1):\n",
    "    bx =np.dot(b,x_1)\n",
    "    x = ((np.linalg.norm(x_1-b))**2)\n",
    "    norma_b = ((np.linalg.norm(b))**2)\n",
    "    if bx >=3:\n",
    "        if x <=3:\n",
    "            return x_1\n",
    "        else:\n",
    "            pr_x = ((x_1 - b)*math.sqrt(3)/np.linalg.norm(x_1-b))+b\n",
    "            return pr_x\n",
    "    else:\n",
    "        pr_x_hyp = x_1 - (bx-3)*b /norma_b\n",
    "        norma_pr_x_hyp = ((np.linalg.norm(pr_x_hyp))**2)\n",
    "        if norma_pr_x_hyp <=3:\n",
    "            return pr_x_hyp\n",
    "        else:\n",
    "            pr_x_ball = ((pr_x_hyp-b)*math.sqrt(3)/np.linalg.norm(pr_x_hyp-b)) +b\n",
    "            return pr_x_ball"
   ]
  },
  {
   "cell_type": "code",
   "execution_count": 6,
   "id": "7bb7da15",
   "metadata": {},
   "outputs": [],
   "source": [
    "def Check2(x_0,x_1):\n",
    "    norma_x_0_x_1= (np.linalg.norm(x_1-x_0))\n",
    "    if norma_x_0_x_1 < 0.0001:\n",
    "        return -1\n",
    "    else:\n",
    "        return 1"
   ]
  },
  {
   "cell_type": "code",
   "execution_count": 7,
   "id": "1c56d601",
   "metadata": {},
   "outputs": [],
   "source": [
    "def WithCond (x_0 , alpha , a, b):  \n",
    "    norma_a = ((np.linalg.norm(a))**2)\n",
    "    norma_b = ((np.linalg.norm(b))**2)\n",
    "    \n",
    "    x_0=Check1(x_0)\n",
    "    \n",
    "    F    = ((np.linalg.norm(x_0-a))**2)\n",
    "\n",
    "    \n",
    "    g_0  = (x_0 - a)*2   #norma_g_0 = round(np.linalg.norm(g_0))        \n",
    "    d_0 = -g_0\n",
    "    \n",
    "    x_1  = x_0 + alpha*(d_0) #Если k ==0 берем -g_k\n",
    "    step = 1\n",
    "    \n",
    "    \n",
    "    if np.linalg.norm(g_0) == 0:\n",
    "        return \"Error\"\n",
    "    \n",
    "    x_1 = Check1(x_1)\n",
    "    \n",
    "    \n",
    "    \n",
    "    while Check2(x_0,x_1)!=-1:\n",
    "        F    = ((np.linalg.norm(x_1-a))**2)\n",
    "        g_1  = (x_1 - a)*2\n",
    "        step +=1\n",
    "        if Check(g_1) == -1:    \n",
    "            return x_1 , step\n",
    "        else:\n",
    "            y_k_1 = g_1 - g_0\n",
    "            dop = np.dot(g_1,y_k_1)\n",
    "            \n",
    "            norma_g_0 = np.linalg.norm(g_0)**2\n",
    "            \n",
    "            betta = dop/norma_g_0\n",
    "            \n",
    "            d_1 = -g_1 + betta * d_0\n",
    "            \n",
    "            x_1  = x_0 + alpha*(d_1)\n",
    "            d_0 = d_1\n",
    "            x_0 = x_1\n",
    "            g_0 = g_1\n",
    "            x_1 = Check1(x_1)\n",
    "            \n",
    "    return x_1 ,step"
   ]
  },
  {
   "cell_type": "code",
   "execution_count": 8,
   "id": "a18cb65e",
   "metadata": {},
   "outputs": [
    {
     "name": "stdout",
     "output_type": "stream",
     "text": [
      "x= (array([ 0.30433441, -0.58390077,  1.8012384 ,  2.10557281]), 2)\n"
     ]
    }
   ],
   "source": [
    "a = np.array([1,3,1,2],float)\n",
    "b = np.array([0,-1,1,1],float)\n",
    "x_0 = 10*b\n",
    "alpha = 1/2\n",
    "print(\"x=\",WithCond(x_0,alpha,a,b))"
   ]
  },
  {
   "cell_type": "code",
   "execution_count": null,
   "id": "c1e40acb",
   "metadata": {},
   "outputs": [],
   "source": []
  }
 ],
 "metadata": {
  "kernelspec": {
   "display_name": "Python 3",
   "language": "python",
   "name": "python3"
  },
  "language_info": {
   "codemirror_mode": {
    "name": "ipython",
    "version": 3
   },
   "file_extension": ".py",
   "mimetype": "text/x-python",
   "name": "python",
   "nbconvert_exporter": "python",
   "pygments_lexer": "ipython3",
   "version": "3.8.8"
  }
 },
 "nbformat": 4,
 "nbformat_minor": 5
}
